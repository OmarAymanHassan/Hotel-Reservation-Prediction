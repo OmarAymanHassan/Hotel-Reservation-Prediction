{
 "cells": [
  {
   "cell_type": "code",
   "execution_count": null,
   "id": "18931106",
   "metadata": {},
   "outputs": [],
   "source": []
  },
  {
   "cell_type": "code",
   "execution_count": 1,
   "id": "c27d44cb",
   "metadata": {},
   "outputs": [
    {
     "data": {
      "text/plain": [
       "<Logger __main__ (INFO)>"
      ]
     },
     "execution_count": 1,
     "metadata": {},
     "output_type": "execute_result"
    }
   ],
   "source": [
    "from src.logger import get_logger\n",
    "name = get_logger(__name__)\n",
    "name"
   ]
  },
  {
   "cell_type": "code",
   "execution_count": 6,
   "id": "151b889a",
   "metadata": {},
   "outputs": [
    {
     "data": {
      "text/plain": [
       "'test_logget.py'"
      ]
     },
     "execution_count": 6,
     "metadata": {},
     "output_type": "execute_result"
    }
   ],
   "source": [
    "file = r\"D:\\ITI\\DS Track\\Machine Learning\\projects\\Hotel Reservation Prediction\\test_logget.py\"\n",
    "\n",
    "file.split(\"\\\\\")[-1]"
   ]
  },
  {
   "cell_type": "code",
   "execution_count": 7,
   "id": "9e5434aa",
   "metadata": {},
   "outputs": [
    {
     "data": {
      "text/plain": [
       "'d:\\\\ITI\\\\DS Track\\\\Machine Learning\\\\projects\\\\Hotel Reservation Prediction\\\\notebook'"
      ]
     },
     "execution_count": 7,
     "metadata": {},
     "output_type": "execute_result"
    }
   ],
   "source": [
    "import os \n",
    "\n",
    "os.getcwd()"
   ]
  },
  {
   "cell_type": "code",
   "execution_count": 12,
   "id": "436e732d",
   "metadata": {},
   "outputs": [
    {
     "data": {
      "text/plain": [
       "('notebook', '')"
      ]
     },
     "execution_count": 12,
     "metadata": {},
     "output_type": "execute_result"
    }
   ],
   "source": [
    "file = os.getcwd()\n",
    "script_name = os.path.splitext(os.path.basename(file))\n",
    "script_name"
   ]
  },
  {
   "cell_type": "code",
   "execution_count": 11,
   "id": "2f74a2be",
   "metadata": {},
   "outputs": [
    {
     "data": {
      "text/plain": [
       "'notebook'"
      ]
     },
     "execution_count": 11,
     "metadata": {},
     "output_type": "execute_result"
    }
   ],
   "source": [
    "file = os.getcwd()\n",
    "script_name = os.path.basename(file)\n",
    "script_name"
   ]
  },
  {
   "cell_type": "code",
   "execution_count": 13,
   "id": "29b5254a",
   "metadata": {},
   "outputs": [
    {
     "data": {
      "text/plain": [
       "('d:\\\\ITI\\\\DS Track\\\\Machine Learning\\\\projects\\\\Hotel Reservation Prediction\\\\notebook',\n",
       " '')"
      ]
     },
     "execution_count": 13,
     "metadata": {},
     "output_type": "execute_result"
    }
   ],
   "source": [
    "file = os.getcwd()\n",
    "script_name = os.path.splitext(file)\n",
    "script_name"
   ]
  }
 ],
 "metadata": {
  "kernelspec": {
   "display_name": "Hotel Reservation Prediction (3.12.10)",
   "language": "python",
   "name": "python3"
  },
  "language_info": {
   "codemirror_mode": {
    "name": "ipython",
    "version": 3
   },
   "file_extension": ".py",
   "mimetype": "text/x-python",
   "name": "python",
   "nbconvert_exporter": "python",
   "pygments_lexer": "ipython3",
   "version": "3.12.10"
  }
 },
 "nbformat": 4,
 "nbformat_minor": 5
}
